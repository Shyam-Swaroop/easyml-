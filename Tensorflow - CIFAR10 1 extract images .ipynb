{
 "cells": [
  {
   "cell_type": "code",
   "execution_count": 2,
   "metadata": {
    "collapsed": true
   },
   "outputs": [],
   "source": [
    "import tensorflow as tf"
   ]
  },
  {
   "cell_type": "code",
   "execution_count": 3,
   "metadata": {
    "collapsed": false
   },
   "outputs": [],
   "source": [
    "from PIL import Image\n",
    "import numpy as np"
   ]
  },
  {
   "cell_type": "code",
   "execution_count": 4,
   "metadata": {
    "collapsed": true
   },
   "outputs": [],
   "source": [
    "import os\n",
    "os.chdir(\"/media/shyam/New Volume/cifar10/cifar-10-batches-bin\")"
   ]
  },
  {
   "cell_type": "code",
   "execution_count": 6,
   "metadata": {
    "collapsed": false
   },
   "outputs": [],
   "source": [
    "'''crete a list of filenames, nothing special here'''\n",
    "filenames = [\"data_batch_%d.bin\"%i for i in range(1,6)]"
   ]
  },
  {
   "cell_type": "code",
   "execution_count": 7,
   "metadata": {
    "collapsed": false
   },
   "outputs": [],
   "source": [
    "'''string_input_producer returns two things a QUEUE and a QUEUERUNNER\n",
    "1. My personal opinion is not to specify num_epochs here, rather specify number of times for loop should run during training\n",
    "2. if shuffle is used, seed must be specified\n",
    "'''\n",
    "filequeue = tf.train.string_input_producer(filenames,shuffle = True, seed = 4)"
   ]
  },
  {
   "cell_type": "code",
   "execution_count": 8,
   "metadata": {
    "collapsed": false,
    "scrolled": true
   },
   "outputs": [
    {
     "data": {
      "text/plain": [
       "'\\n1. Each execution of read reads a single line from the file. \\n   The decode_csv/decode_raw op then parses the result into a list of tensors. \\n   The record_defaults argument determines the type of the resulting tensors and sets the default value to use if a value is missing in the input string.\\n\\n2. You must call tf.train.start_queue_runners to populate the queue before you call run or eval to execute the read. \\n   Otherwise read will block while it waits for filenames from the queue.\\n'"
      ]
     },
     "execution_count": 8,
     "metadata": {},
     "output_type": "execute_result"
    }
   ],
   "source": [
    "'''\n",
    "1. Each execution of read reads a single line from the file. \n",
    "   The decode_csv/decode_raw op then parses the result into a list of tensors. \n",
    "   The record_defaults argument determines the type of the resulting tensors and sets the default value to use if a value is missing in the input string.\n",
    "\n",
    "2. You must call tf.train.start_queue_runners to populate the queue before you call run or eval to execute the read. \n",
    "   Otherwise read will block while it waits for filenames from the queue.\n",
    "'''"
   ]
  },
  {
   "cell_type": "code",
   "execution_count": 9,
   "metadata": {
    "collapsed": false
   },
   "outputs": [],
   "source": [
    "'''Now we need a person(reader) to read from the queue'''\n",
    "image_height = 32\n",
    "image_width = 32\n",
    "image_depth = 3\n",
    "image_bytes = image_height * image_width * image_depth\n",
    "label_bytes = 1\n",
    "example_bytes = label_bytes + image_bytes \n",
    "reader = tf.FixedLengthRecordReader(record_bytes = example_bytes)\n",
    "'''Enable the reader to read from the filequeue'''\n",
    "key , value = reader.read(filequeue)\n",
    "'''each byte contains one pixel so convert it in form of tf.uint8'''\n",
    "record_bytes = tf.decode_raw(value, tf.uint8)"
   ]
  },
  {
   "cell_type": "code",
   "execution_count": 10,
   "metadata": {
    "collapsed": false
   },
   "outputs": [],
   "source": [
    "example_label = tf.cast(tf.slice(record_bytes,[0],[label_bytes]) , tf.int32)\n",
    "example_image = tf.reshape(tf.slice(record_bytes, [label_bytes], [image_bytes]),\n",
    "                           [image_depth, image_height, image_width])"
   ]
  },
  {
   "cell_type": "code",
   "execution_count": 11,
   "metadata": {
    "collapsed": false
   },
   "outputs": [],
   "source": [
    "sess = tf.InteractiveSession()\n",
    "init_all = tf.initialize_all_variables()\n",
    "init_local = tf.initialize_local_variables()\n",
    "'''\n",
    "1. it's important to initialize all local variables before starting the queue runners\n",
    "   change the sequence of below lines and get error :)\n",
    "2. QUEUERUNNERS are also called threads\n",
    "   so generally we will see, \n",
    "   coord = tf.train.Coordinator()\n",
    "   threads = tf.start_queue_runners(sess = sess,coord = coord)\n",
    "   <do stuff>\n",
    "   coord.request_stop()\n",
    "   coord.join(threads)\n",
    "   If we don't stop threads here, we will geet error while closing the session\n",
    "'''\n",
    "sess.run([init_local])\n",
    "coord = tf.train.Coordinator()\n",
    "threads = tf.train.start_queue_runners(sess = sess, coord = coord)"
   ]
  },
  {
   "cell_type": "code",
   "execution_count": 12,
   "metadata": {
    "collapsed": false
   },
   "outputs": [],
   "source": [
    "#labels is list of all labels in a batch, and images is list of all images in that batch\n",
    "labels = []\n",
    "images = []\n",
    "for i in range(1000):\n",
    "    labels.append(sess.run(example_label))\n",
    "    images.append(sess.run(example_image))"
   ]
  },
  {
   "cell_type": "code",
   "execution_count": 13,
   "metadata": {
    "collapsed": true
   },
   "outputs": [],
   "source": [
    "image = Image.fromarray(images[0], 'RGB')\n",
    "image.show()"
   ]
  },
  {
   "cell_type": "code",
   "execution_count": 14,
   "metadata": {
    "collapsed": false
   },
   "outputs": [],
   "source": [
    "coord.request_stop()\n",
    "coord.join(threads)\n",
    "sess.close()"
   ]
  }
 ],
 "metadata": {
  "anaconda-cloud": {},
  "kernelspec": {
   "display_name": "Python [tensorflow]",
   "language": "python",
   "name": "Python [tensorflow]"
  },
  "language_info": {
   "codemirror_mode": {
    "name": "ipython",
    "version": 3
   },
   "file_extension": ".py",
   "mimetype": "text/x-python",
   "name": "python",
   "nbconvert_exporter": "python",
   "pygments_lexer": "ipython3",
   "version": "3.5.2"
  }
 },
 "nbformat": 4,
 "nbformat_minor": 0
}
