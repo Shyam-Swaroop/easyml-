{
 "cells": [
  {
   "cell_type": "code",
   "execution_count": 24,
   "metadata": {
    "collapsed": true
   },
   "outputs": [],
   "source": [
    "import tensorflow as tf"
   ]
  },
  {
   "cell_type": "code",
   "execution_count": 25,
   "metadata": {
    "collapsed": true
   },
   "outputs": [],
   "source": [
    "import os"
   ]
  },
  {
   "cell_type": "code",
   "execution_count": 26,
   "metadata": {
    "collapsed": true
   },
   "outputs": [],
   "source": [
    "data_dir = \"/media/shyam/New Volume/cifar10/cifar-10-batches-bin\""
   ]
  },
  {
   "cell_type": "code",
   "execution_count": 27,
   "metadata": {
    "collapsed": true
   },
   "outputs": [],
   "source": [
    "'''crete a list of filenames, nothing special here'''\n",
    "filenames = [os.path.join(data_dir,\"data_batch_%d.bin\"%i) for i in range(1,6)]"
   ]
  },
  {
   "cell_type": "code",
   "execution_count": 28,
   "metadata": {
    "collapsed": true
   },
   "outputs": [],
   "source": [
    "'''string_input_producer returns two things a QUEUE and a QUEUERUNNER\n",
    "1. My personal opinion is not to specify num_epochs here, rather specify number of times for loop should run during training\n",
    "2. if shuffle is used, seed must be specified\n",
    "'''\n",
    "filequeue = tf.train.string_input_producer(filenames,shuffle = True, seed = 4)"
   ]
  },
  {
   "cell_type": "code",
   "execution_count": 29,
   "metadata": {
    "collapsed": false
   },
   "outputs": [
    {
     "data": {
      "text/plain": [
       "'\\n1. Each execution of read reads a single line from the file. \\n   The decode_csv/decode_raw op then parses the result into a list of tensors. \\n   The record_defaults argument determines the type of the resulting tensors and sets the default value to use if a value is missing in the input string.\\n\\n2. You must call tf.train.start_queue_runners to populate the queue before you call run or eval to execute the read. \\n   Otherwise read will block while it waits for filenames from the queue.\\n'"
      ]
     },
     "execution_count": 29,
     "metadata": {},
     "output_type": "execute_result"
    }
   ],
   "source": [
    "'''\n",
    "1. Each execution of read reads a single line from the file. \n",
    "   The decode_csv/decode_raw op then parses the result into a list of tensors. \n",
    "   The record_defaults argument determines the type of the resulting tensors and sets the default value to use if a value is missing in the input string.\n",
    "\n",
    "2. You must call tf.train.start_queue_runners to populate the queue before you call run or eval to execute the read. \n",
    "   Otherwise read will block while it waits for filenames from the queue.\n",
    "'''"
   ]
  },
  {
   "cell_type": "code",
   "execution_count": 30,
   "metadata": {
    "collapsed": true
   },
   "outputs": [],
   "source": [
    "'''Now we need a person(reader) to read from the queue'''\n",
    "image_height = 32\n",
    "image_width = 32\n",
    "image_depth = 3\n",
    "image_bytes = image_height * image_width * image_depth\n",
    "label_bytes = 1\n",
    "example_bytes = label_bytes + image_bytes \n",
    "reader = tf.FixedLengthRecordReader(record_bytes = example_bytes)\n",
    "'''Enable the reader to read from the filequeue'''\n",
    "key , value = reader.read(filequeue)\n",
    "'''each byte contains one pixel so convert it in form of tf.uint8'''\n",
    "record_bytes = tf.decode_raw(value, tf.uint8)"
   ]
  },
  {
   "cell_type": "code",
   "execution_count": 31,
   "metadata": {
    "collapsed": true
   },
   "outputs": [],
   "source": [
    "example_label = tf.cast(tf.slice(record_bytes,[0],[label_bytes]) , tf.int32)\n",
    "example_image = tf.reshape(tf.slice(record_bytes, [label_bytes], [image_bytes]),\n",
    "                           [image_depth, image_height, image_width])"
   ]
  },
  {
   "cell_type": "code",
   "execution_count": 32,
   "metadata": {
    "collapsed": false
   },
   "outputs": [],
   "source": [
    "sess = tf.InteractiveSession()\n",
    "init_all = tf.initialize_all_variables()\n",
    "init_local = tf.initialize_local_variables()\n",
    "'''\n",
    "1. it's important to initialize all local variables before starting the queue runners\n",
    "   change the sequence of below lines and get error :)\n",
    "2. QUEUERUNNERS are also called threads\n",
    "   so generally we will see, \n",
    "   coord = tf.train.Coordinator()\n",
    "   threads = tf.start_queue_runners(sess = sess,coord = coord)\n",
    "   <do stuff>\n",
    "   coord.request_stop()\n",
    "   coord.join(threads)\n",
    "   If we don't stop threads here, we will geet error while closing the session\n",
    "'''\n",
    "sess.run([init_local])\n",
    "coord = tf.train.Coordinator()\n",
    "threads = tf.train.start_queue_runners(sess = sess, coord = coord)"
   ]
  },
  {
   "cell_type": "code",
   "execution_count": 33,
   "metadata": {
    "collapsed": false
   },
   "outputs": [],
   "source": [
    "labels = []\n",
    "images = []\n",
    "for i in range(1000):\n",
    "    labels.append(sess.run(example_label))\n",
    "    images.append(sess.run(example_image))"
   ]
  },
  {
   "cell_type": "code",
   "execution_count": 34,
   "metadata": {
    "collapsed": false
   },
   "outputs": [
    {
     "data": {
      "text/plain": [
       "'\\nIn document 1 we had run a for loop to generate a list of images and labels from the CIFAR10 data\\nTensorflow provides a mechansim to replace this for loop with a op node\\nThesse op nodes can be either tf.train.shuffle_batch or tf.train.batch\\nTheses op nodes do two things simultaneously, first create a queue where the reader puts examples\\nsecond, create a batch of examples from this queue and return this batch in form of a list\\n'"
      ]
     },
     "execution_count": 34,
     "metadata": {},
     "output_type": "execute_result"
    }
   ],
   "source": [
    "'''\n",
    "In document 1 we had run a for loop to generate a list of images and labels from the CIFAR10 data\n",
    "Tensorflow provides a mechansim to replace this for loop with a op node\n",
    "Thesse op nodes can be either tf.train.shuffle_batch or tf.train.batch\n",
    "Theses op nodes do two things simultaneously, first create a queue where the reader puts examples\n",
    "second, create a batch of examples from this queue and return this batch in form of a list\n",
    "'''"
   ]
  },
  {
   "cell_type": "code",
   "execution_count": 35,
   "metadata": {
    "collapsed": false
   },
   "outputs": [],
   "source": [
    " images_batch,labels_batch = tf.train.batch(\n",
    "        [example_image,example_label],\n",
    "        batch_size=10,\n",
    "        num_threads=16,\n",
    "        capacity=100 + 3 * 10,\n",
    "        enqueue_many=False)"
   ]
  },
  {
   "cell_type": "code",
   "execution_count": 47,
   "metadata": {
    "collapsed": false
   },
   "outputs": [],
   "source": [
    "'''\n",
    "Since tf.train.batch/shuffle_batch creates a queue we need to start queue runners/threads using tf.train.start_queue_runners\n",
    "What will happen if we forget to start the queue runners?\n",
    "The program will get blocked and keep waiting for the threads, so it will show as it is running but actually its doing nothing\n",
    "'''\n",
    "threads2 = tf.train.start_queue_runners(sess = sess, coord = coord)"
   ]
  },
  {
   "cell_type": "code",
   "execution_count": null,
   "metadata": {
    "collapsed": true
   },
   "outputs": [],
   "source": [
    "'''\n",
    "We need to use tf.train.start_queue_runners only once after zero state layout definition is finished\n",
    "'''"
   ]
  },
  {
   "cell_type": "code",
   "execution_count": 38,
   "metadata": {
    "collapsed": false
   },
   "outputs": [],
   "source": [
    "'''\n",
    "try using and see what error you get:\n",
    "imgs= sess.run([images_batch])\n",
    "Error : Expected 2 elements in the list given 1\n",
    "'''\n",
    "imgs,labs = sess.run([images_batch,labels_batch])"
   ]
  },
  {
   "cell_type": "code",
   "execution_count": 53,
   "metadata": {
    "collapsed": true
   },
   "outputs": [],
   "source": [
    "coord.request_stop()\n",
    "coord.join(threads)\n",
    "coord.join(threads2)"
   ]
  },
  {
   "cell_type": "code",
   "execution_count": 54,
   "metadata": {
    "collapsed": true
   },
   "outputs": [],
   "source": [
    "sess.close()"
   ]
  }
 ],
 "metadata": {
  "anaconda-cloud": {},
  "kernelspec": {
   "display_name": "Python [tensorflow]",
   "language": "python",
   "name": "Python [tensorflow]"
  },
  "language_info": {
   "codemirror_mode": {
    "name": "ipython",
    "version": 3
   },
   "file_extension": ".py",
   "mimetype": "text/x-python",
   "name": "python",
   "nbconvert_exporter": "python",
   "pygments_lexer": "ipython3",
   "version": "3.5.2"
  }
 },
 "nbformat": 4,
 "nbformat_minor": 0
}
